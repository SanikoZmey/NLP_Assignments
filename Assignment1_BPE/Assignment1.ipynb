{
  "cells": [
    {
      "cell_type": "markdown",
      "metadata": {
        "id": "RKboZnAdgrRM"
      },
      "source": [
        "# [NLP] Assignment 1: Tokenization\n",
        "\n",
        "In this assignment, you need to tokenize the text of the Twitter(X) users posts(tweets). The assignment consists of two tasks. When you finish all the tasks, create a GitHub repository for this assignment (you can use this repo later for the other assignments) and submit this notebook in the repository. Leave `requirements.txt` file if your code requires additional installations. Submit the link to the repository in Moodle.\n",
        "\n",
        "The [data](https://drive.google.com/file/d/15x_wPAflvYQ2Xh38iNQGrqUIWLj5l5Nw/view?usp=share_link) contains 5 files whereby each contains 44 tweets. Each tweet is separated by a newline."
      ]
    },
    {
      "cell_type": "markdown",
      "metadata": {
        "id": "aLDjjAvemUP_"
      },
      "source": [
        "## Task 1. Tokenize some tweets manually (20 points)\n",
        "\n",
        "As a first task you need to tokenize first 15 tweets from `file2` by hand. This will allow you to understand the problem from a linguistic point of view. The guidelines for tweet tokenization are as follows:\n",
        "\n",
        "- Each smiley is a separate token\n",
        "- Each hashtag is an individual token. Each user reference is an individual token\n",
        "- If a word has spaces between them then it is converted to a single token\n",
        "- All punctuations are individual tokens. This includes double-quotes and single quotes also\n",
        "- A URL is a single token\n",
        "\n",
        "Example of output\n",
        "\n",
        "    Input tweet\n",
        "    @xfranman Old age has made N A T O!\n",
        "\n",
        "    Tokenized tweet (separated by comma)\n",
        "    @xfranman , Old , age , has , made , NATO , !"
      ]
    },
    {
      "cell_type": "markdown",
      "metadata": {
        "id": "7KKKwTidnzUw"
      },
      "source": [
        "\n",
        "    1. Input tweet\n",
        "    ...\n",
        "    1. Tokenized tweet\n",
        "    ...\n",
        "\n",
        "    2. Input tweet\n",
        "    ...\n",
        "    2. Tokenized tweet\n",
        "    ..."
      ]
    },
    {
      "cell_type": "markdown",
      "metadata": {},
      "source": [
        "1. Camping in Maine for the weekend. Hey Dad, Mama Loves YOU: http://www.mamapalooza.com\n",
        "1. `Camping , in , Maine , for , the , weekend , . , Hey ,  Dad , , , Mama , Loves , YOU , : , http://www.mamapalooza.com`\n",
        "2. Its american tradition bitch\n",
        "2. `Its , american , tradition , bitch`\n",
        "3. @ThroughTheVoid They love it! The only pleasure they get in life. I actually do that. I'm sure I hear a tiny squeak... Then louder ones\n",
        "3. `@ThroughTheVoid , They , love , it , ! , The , only , pleasure , they , get , in , life , . , I , actually , do , that , .  , I , ' , m , sure , I , hear , a , tiny , squeak , . , . , . , Then , louder , ones`\n",
        "4. \" RT @latti: @AbsoHilare stop tweeting in church! Lol <--- \"\"I tweet because I'm happy, I tweet because I'm free\"\" LOL!\"\n",
        "4. `\" , RT , @latti , : , @AbsoHilare , stop , tweeting , in , church , ! , Lol , < , - , - , - , \" , \" , I , tweet , because , I , ' , m , happy , , , I , tweet , because , I , ' , m , free , \" , \" , LOL , ! , \"`\n",
        "5. Samsung Mini S2 portable HDD graced with colors that perfectly match your tacky beach gear: Sammy's done it aga.. http://tinyurl.com/lb5p6m\n",
        "5. `Samsung , Mini , S2 , portable , HDD , graced , with , colors , that , perfectly , match , your , tacky , beach , gear , : , Sammy , ' , s , done , it , aga , . , . , http://tinyurl.com/lb5p6m`\n",
        "6. @dialloc congrats on finding your way over. it may be slow going at first. hang in there. it's kinda cool when u get up to speed.\n",
        "6. `@dialloc , congrats , on , finding , your , way , over , . , it , may , be , slow , going , at , first , . , hang , in , there , . , it , ' , s , kinda , cool , when , u , get , up , to , speed , .`\n",
        "7. iPhone activation delays continue, Apple offers $30 http://twt.gs/l3Ki\n",
        "7. `iPhone , activation , delays , continue , , , Apple , offers , $30 , http://twt.gs/l3Ki`\n",
        "8. RT @GoogleAtWork Gmail maximum attachment size now 25MB http://bit.ly/62mjw Nice!!!\n",
        "8. `RT , @GoogleAtWork , Gmail , maximum , attachment , size , now , 25MB , http://bit.ly/62mjw , Nice , ! , ! , !`\n",
        "9. RT @acfou The Ads Won Awards for Crispin; But Did Nothing for Client BurgerKing's Sales/Marketshare - Big Surprise - http://ping.fm/vw8TI\n",
        "9. `RT , @acfou , The , Ads , Won , Awards , for , Crispin , ; , But , Did , Nothing , for , Client , BurgerKing , ' , s , Sales , / , Marketshare , - , Big , Surprise , - , http://ping.fm/vw8TI`\n",
        "10. Hey doll! Great I missed True Blood yday boo lol Rt @FrankBanuat78 @jhillstephens Hello Sunshine how are u today? :-)\n",
        "10. `Hey , doll , ! , Great , I , missed , True , Blood , yday , boo , lol , Rt , @FrankBanuat78 , @jhillstephens , Hello , Sunshine , how , are , u , today , ? , :-)`\n",
        "11. Australian artist Pogo made these free songs primarily from sampled audio from Alice In Wonderland. http://www.last.fm/music/Pogo/Wonderland\n",
        "11. `Australian , artist , Pogo , made , these , free , songs , primarily , from , sampled , audio , from , Alice , In , Wonderland , . , http://www.last.fm/music/Pogo/Wonderland`\n",
        "12. @mppritchard they wanted to sell all the preorders & then sell all of the ones they had in stock to those that just walked in. Can't do both\n",
        "12. `@mppritchard , they , wanted , to , sell , all , the , preorders , & , then , sell , all , of , the , ones , they , had , in , stock , to , those , that , just , walked , in , . , Can , ', t , do , both`\n",
        "13. Incoming: Frightened Rabbit, Sept. 22 (Tucson): If Fat Cat Records is going to send three great bands from Scot.. http://tinyurl.com/nz6xcv\n",
        "13. `Incoming , : , Frightened , Rabbit , , , Sept , . , 22 , ( , Tucson , ) , : , If , Fat , Cat , Records , is , going , to , send , three , great , bands , from , Scot , . , . , http://tinyurl.com/nz6xcv`\n",
        "14. Hey @ginoandfran please greet philip! (GinoandFran live > http://ustre.am/2YyQ)\n",
        "14. `Hey , @ginoandfran , please , greet , philip , ! , ( , GinoandFran , live , > , http://ustre.am/2YyQ , )`\n",
        "15. Ik weet niet wie er achter de T-Mobile iPhone Twitter zit maar ik vind het niet echt 'corporate' taalgebruik... Best vreemd eigenlijk\n",
        "15. `Ik , weet , niet , wie , er , achter , de , T-Mobile , iPhone , Twitter , zit , maar , ik , vind , het , niet , echt , ' , corporate , ' , taalgebruik , . , . , . , Best , vreemd , eigenlijk`"
      ]
    },
    {
      "cell_type": "markdown",
      "metadata": {
        "id": "-2J2AD2nmUhi"
      },
      "source": [
        "## Task 2. Implement [Byte-Pair Encoding(BPE)](https://arxiv.org/pdf/1508.07909.pdf) Tokenizer (80 points)\n",
        "\n",
        "### Task 2.1. Implementation (60 points)\n",
        "\n",
        "Implement the tokenizer as the BPETokenizer class:\n",
        "* Implement `train` method that learns merges and builds the vocabulary of the specified `vocab_size` (25 points).\n",
        "* Implement `tokenize` method that should tokenize the text according to the learnt merges (25 points).\n",
        "\n",
        "Your code should have docstrings and comments (10 points)."
      ]
    },
    {
      "cell_type": "code",
      "execution_count": 1,
      "metadata": {},
      "outputs": [],
      "source": [
        "from typing import List\n",
        "import re\n",
        "\n",
        "class BPETokenizer:\n",
        "    def __init__(self, vocab_size: int) -> None:\n",
        "        self.vocab_size = vocab_size\n",
        "        # List with all pairs that show which grams were merdged on a particular step of training\n",
        "        self.merges = []\n",
        "\n",
        "    def train(self, corpus: List[str]) -> None:\n",
        "        \"\"\"\n",
        "            Learns gram mergings via iterative process of finding most frequent neighbouring gram pairs\n",
        "        \"\"\"\n",
        "        # Until there are no enough merges found\n",
        "        while len(self.merges) < self.vocab_size:\n",
        "            # We go through all the corpus and count all pairs that are made from 2 neighbouring grams\n",
        "            counts = {}\n",
        "            for i in range(len(corpus) - 1):\n",
        "                # We do not want for now to cross interword boundaries to merge neighbouring words\n",
        "                if(corpus[i][len(corpus[i]) - 1] == '·'):\n",
        "                    continue\n",
        "\n",
        "                # Creating a pair and counting it\n",
        "                pair = corpus[i], corpus[i + 1]\n",
        "                if(counts.get(pair, -1) != -1):\n",
        "                    counts[pair] += 1\n",
        "                else:\n",
        "                    counts[pair] = 1\n",
        "            \n",
        "            # Finding most frequent pair and appending it to the list of merges\n",
        "            most_freq = max(counts, key=counts.get)\n",
        "            self.merges.append(most_freq)\n",
        "            most_freq = ''.join(most_freq)\n",
        "            \n",
        "            # Merging all the neighboring grams in the corpus that are in the found pair\n",
        "            new_corpus = []\n",
        "            i = 0\n",
        "            while i < len(corpus) - 1:\n",
        "                if(corpus[i] + corpus[i+1] == most_freq):\n",
        "                    new_corpus.append(most_freq)\n",
        "                    i += 2\n",
        "                else:\n",
        "                    new_corpus.append(corpus[i])\n",
        "                    i += 1\n",
        "            corpus = new_corpus.copy()\n",
        "            del(new_corpus)\n",
        "            \n",
        "    def tokenize(self, text: str) -> List[str]:\n",
        "        \"\"\"\n",
        "            Splits the text on tokens via breaking it on grams and applying learnt gram mergings\n",
        "        \"\"\"\n",
        "        # Preprocessing the text via replacing spaces by special symbol \"·\" and marking by it ends of tweets\n",
        "        prepr_tweets = [' '.join(re.findall(r\".\", tweet.replace(' ', '·') + '·')) for tweet in text.split('\\n')]\n",
        "        \n",
        "        # Apllying all the merges to each tweet and saving the tokenized version\n",
        "        for i, tweet in enumerate(prepr_tweets): \n",
        "            for pair in self.merges:\n",
        "                # This part was taken from \"https://arxiv.org/pdf/1508.07909.pdf\" \n",
        "                # Here it is needed to find and replace a matching neigbouring grams that are separated by spaces by a bigram(merge them) \n",
        "                bigram = re.escape(' '.join(pair))\n",
        "                p = re.compile(r'(?<!\\S)' + bigram + r'(?!\\S)')\n",
        "                tweet = p.sub(''.join(pair), tweet)\n",
        "            # At the end we remove all \"·\" symbols and split the text on tokens\n",
        "            prepr_tweets[i] = tweet[:-1].replace('·', '').split()\n",
        "        return prepr_tweets"
      ]
    },
    {
      "cell_type": "markdown",
      "metadata": {},
      "source": [
        "### Task 2.2. Analysis on Tweets Dataset (10 points)\n",
        "\n",
        "Train the BPE tokenizer on the tweets dataset. Try to tokenize the tweets with the tokenizer of different `vocab_size`. For example, train the BPE tokenizer with `vocab_size` of [base_vocab_size, 250, 500, 750, 1000]. Plot the dependency of the average length of the tokenized tweet by `vocab_size` to analyze how `vocab_size` affects the length of the tokenized tweet on average. Tell what `vocab_size` is preferrable and why."
      ]
    },
    {
      "cell_type": "markdown",
      "metadata": {},
      "source": [
        "#### `Loading all the data from files and merging it in one string`"
      ]
    },
    {
      "cell_type": "code",
      "execution_count": 2,
      "metadata": {},
      "outputs": [],
      "source": [
        "all_tweets = \"\"\n",
        "for i in range(1, 6):\n",
        "    with open(f'./data/file{i}') as f:\n",
        "        tweets = f.read()\n",
        "    \n",
        "    # Last tweets from each file are not ended by \"\\n\"\n",
        "    if(i != 5):\n",
        "        tweets += '\\n'\n",
        "    all_tweets += tweets"
      ]
    },
    {
      "cell_type": "code",
      "execution_count": 6,
      "metadata": {},
      "outputs": [
        {
          "name": "stdout",
          "output_type": "stream",
          "text": [
            "Training and tokenizing with vocab_size = 100 ... Done!\n",
            "Training and tokenizing with vocab_size = 250 ... Done!\n",
            "Training and tokenizing with vocab_size = 500 ... Done!\n",
            "Training and tokenizing with vocab_size = 750 ... Done!\n",
            "Training and tokenizing with vocab_size = 1000 ... Done!\n"
          ]
        }
      ],
      "source": [
        "import matplotlib.pyplot as plt\n",
        "\n",
        "# Preparing sentences(docs) by adding symbols for marking ends of the words\n",
        "tweets = all_tweets.replace('\\n', '·').replace(' ', '·')\n",
        "# And then splitting the text on individual characters\n",
        "splitted = re.findall(r\".\", tweets)\n",
        "\n",
        "# Dictionary for statistics\n",
        "dep_dict = {}\n",
        "\n",
        "# Main loop where we train BPETokenizer with different vocabulary sizes and then tokenizing gotten docs\n",
        "for vocab_size in [100, 250, 500, 750, 1000]:\n",
        "    tokenizer = BPETokenizer(vocab_size)\n",
        "    print(f\"Training and tokenizing with vocab_size = {vocab_size} ...\", end=\" \")\n",
        "    tokenizer.train(splitted)\n",
        "\n",
        "    tokenized = tokenizer.tokenize(all_tweets)\n",
        "    print(\"Done!\")\n",
        "    tweets_lens = [len(t_tweet) for t_tweet in tokenized]\n",
        "    dep_dict[vocab_size] = sum(tweets_lens) / len(tweets_lens)"
      ]
    },
    {
      "cell_type": "markdown",
      "metadata": {},
      "source": [
        "#### `Plotting the dependency plot that shows how vocabulary size influence on average number of tokens `\n",
        "As we can see from the plot - the bigger the vocabulary size the less tokens each tweet has in average\n",
        "In theory, with the growing size of vocabulary tokenizer learns more rules with the use of statistics. But after some time of growing vocabulary size tokeniser stops learning something useful enough(i.e. just different forms of a word or whole words) and it is needed to stop getting the size bigger.\n",
        "In our case having vocabualary size = 1000 is better than having it = 750 or less because if we will check the result of tokenisation then it is noticable that definetly not all rules where learn by the tokenizer."
      ]
    },
    {
      "cell_type": "code",
      "execution_count": 4,
      "metadata": {},
      "outputs": [
        {
          "data": {
            "image/png": "[encoded data removed]",
            "text/plain": [
              "<Figure size 640x480 with 1 Axes>"
            ]
          },
          "metadata": {},
          "output_type": "display_data"
        }
      ],
      "source": [
        "plt.plot(list(dep_dict.keys()), list(dep_dict.values()))\n",
        "plt.xlabel('Vocab. size')\n",
        "plt.ylabel('Avg. num of tokens per tweet')\n",
        "\n",
        "plt.show()"
      ]
    },
    {
      "cell_type": "markdown",
      "metadata": {},
      "source": [
        "### Task 2.3. Analysis on Dataset of Different Language (10 points)\n",
        "\n",
        "Find a small dataset of texts in a language other than English. The dataset size should be not greater than several megabytes.\n",
        "\n",
        "Train the BPE tokenizer on the dataset that you found. Try to tokenize the sentences from this dataset with the tokenizer of different `vocab_size`. Plot the dependency of the average length of the tokenized sentence by `vocab_size` to analyze how `vocab_size` affects the length of the tokenized sentence on average.\n",
        "\n",
        "Tell how how the average length of the tokenized sentence differs from the average length of the tokenized tweet. Explain why. "
      ]
    },
    {
      "cell_type": "markdown",
      "metadata": {},
      "source": [
        "#### `Here I randomly picked a small in terms of file size, but definetly not that small in terms of amount of text data inside dataset`\n",
        "##### Dataset itself can be found [here](https://github.com/esdurmus/Wikilingua)"
      ]
    },
    {
      "cell_type": "code",
      "execution_count": 7,
      "metadata": {},
      "outputs": [],
      "source": [
        "# To read the data we need pickle\n",
        "import pickle\n",
        "\n",
        "# Load data with pickle\n",
        "with open('./data/japanese.pkl', 'rb') as f:\n",
        "    jap_doc = pickle.load(f)\n",
        "\n",
        "\n",
        "# Getting only a few documents (about 50) and it will be enough\n",
        "jap_texts = \"\"\n",
        "\n",
        "# Due to a specific structure of the data to get each dicument it is needed to dig deep\n",
        "for i in range(10):\n",
        "    for i_doc in range(len(list(list(jap_doc.values())[i].values()))):\n",
        "        jap_texts += (list(list(jap_doc.values())[i].values())[i_doc]['document'] + '\\n')\n",
        "    if(i == 9):\n",
        "        jap_texts = jap_texts[:-1]\n",
        "\n",
        "# print(jap_texts)"
      ]
    },
    {
      "cell_type": "markdown",
      "metadata": {},
      "source": [
        "#### `Here will be the same process as for Task 2.2`"
      ]
    },
    {
      "cell_type": "code",
      "execution_count": 8,
      "metadata": {},
      "outputs": [
        {
          "name": "stdout",
          "output_type": "stream",
          "text": [
            "Training and tokenizing with vocab_size = 100 ... Done!\n",
            "Training and tokenizing with vocab_size = 250 ... Done!\n",
            "Training and tokenizing with vocab_size = 500 ... Done!\n",
            "Training and tokenizing with vocab_size = 750 ... Done!\n",
            "Training and tokenizing with vocab_size = 1000 ... Done!\n"
          ]
        }
      ],
      "source": [
        "# Preparing sentences(docs) by adding symbols for marking ends of the words\n",
        "texts = jap_texts.replace('\\n', '·').replace(' ', '·')\n",
        "# And then splitting the text on individual characters\n",
        "splitted = re.findall(r\".\", texts)\n",
        "\n",
        "# Dictionary for statistics\n",
        "dep_dict = {}\n",
        "\n",
        "# Main loop where we train BPETokenizer with different vocabulary sizes and then tokenizing gotten docs\n",
        "for vocab_size in [100, 250, 500, 750, 1000]:\n",
        "    tokenizer = BPETokenizer(vocab_size)\n",
        "    print(f\"Training and tokenizing with vocab_size = {vocab_size} ...\", end=\" \")\n",
        "    tokenizer.train(splitted)\n",
        "\n",
        "    tokenized = tokenizer.tokenize(jap_texts)\n",
        "    print(\"Done!\")\n",
        "    text_lens = [len(t_text) for t_text in tokenized]\n",
        "    dep_dict[vocab_size] = sum(text_lens) / len(text_lens)"
      ]
    },
    {
      "cell_type": "code",
      "execution_count": null,
      "metadata": {},
      "outputs": [],
      "source": [
        "# Here we can look at the tokeniszed text(at the 1st doc to be more precise) for a vocabulary size = 1000\n",
        "tokenized[0] \n",
        "# Some of the merged kanji: \"設定\" - \"settings\", \"される\" - \"to be used\", \"ということを\" - \"and that's what we're doing.\""
      ]
    },
    {
      "cell_type": "markdown",
      "metadata": {},
      "source": [
        "#### `Plotting the dependency plot that shows how vocabulary size influence on average number of tokens `\n",
        "It is noticeable that the average number of tokens per document differs from the average number of tokens for tweet. \\\n",
        "Most probably this it because the structure of the languages: english text is the set of letters which individually not always have a meaning(only as words or abbreviations). From the other hand, texts on japanese are mostly [Kanji](https://en.wikipedia.org/wiki/Kanji) and each individual symbol often cares its own meaning. It means to merge it is needed to make either a phrase out of kanji that is rather commonly used in speach or to make a kanji intself from [Katakana](https://en.wikipedia.org/wiki/Katakana) symbols, for example. \\\n",
        "Also, is could be that the tweets are constructed from a smaller vocabulary than the documents from WiKi and hence it is needed to have a much bigger vocabulary size for a tokeniser to reach the same average number of tokens per sentence."
      ]
    },
    {
      "cell_type": "code",
      "execution_count": 9,
      "metadata": {},
      "outputs": [
        {
          "data": {
            "image/png": "[encoded data removed]",
            "text/plain": [
              "<Figure size 640x480 with 1 Axes>"
            ]
          },
          "metadata": {},
          "output_type": "display_data"
        }
      ],
      "source": [
        "plt.plot(list(dep_dict.keys()),list(dep_dict.values()))\n",
        "plt.xlabel('Vocab. size')\n",
        "plt.ylabel('Avg. num of tokens per doc')\n",
        "\n",
        "plt.show()"
      ]
    },
    {
      "cell_type": "code",
      "execution_count": null,
      "metadata": {},
      "outputs": [],
      "source": []
    }
  ],
  "metadata": {
    "colab": {
      "provenance": [],
      "toc_visible": true
    },
    "kernelspec": {
      "display_name": "Python 3",
      "name": "python3"
    },
    "language_info": {
      "codemirror_mode": {
        "name": "ipython",
        "version": 3
      },
      "file_extension": ".py",
      "mimetype": "text/x-python",
      "name": "python",
      "nbconvert_exporter": "python",
      "pygments_lexer": "ipython3",
      "version": "3.11.7"
    }
  },
  "nbformat": 4,
  "nbformat_minor": 0
}
